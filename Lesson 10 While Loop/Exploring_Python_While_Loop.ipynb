{
  "nbformat": 4,
  "nbformat_minor": 0,
  "metadata": {
    "colab": {
      "name": "Exploring Python While Loop.ipynb",
      "provenance": [],
      "collapsed_sections": [],
      "authorship_tag": "ABX9TyOxdUzQm3Wi4TcQO/cShHIv",
      "include_colab_link": true
    },
    "kernelspec": {
      "name": "python3",
      "display_name": "Python 3"
    },
    "language_info": {
      "name": "python"
    }
  },
  "cells": [
    {
      "cell_type": "markdown",
      "metadata": {
        "id": "view-in-github",
        "colab_type": "text"
      },
      "source": [
        "<a href=\"https://colab.research.google.com/github/HaniaArif/Python/blob/main/Lesson%2010%20While%20Loop%20/%20Exploring_Python_While_Loop.ipynb\" target=\"_parent\"><img src=\"https://colab.research.google.com/assets/colab-badge.svg\" alt=\"Open In Colab\"/></a>"
      ]
    },
    {
      "cell_type": "markdown",
      "source": [
        "# Exploring Python While Loop\n",
        "Click on the code of first block, run it by using the small play button (▶) on its left side.\n",
        "Just like that run all the blocks one by one by using the small play button and check out what happens 😎\n",
        "\n",
        "👀 *The results will show right under the block you run*"
      ],
      "metadata": {
        "id": "7_lPk43A_TqY"
      }
    },
    {
      "cell_type": "markdown",
      "source": [
        "⚡ Parts of while loop that you have to remember..."
      ],
      "metadata": {
        "id": "vxXI55nD_fFs"
      }
    },
    {
      "cell_type": "code",
      "execution_count": null,
      "metadata": {
        "id": "Tn8k2tRK7V12"
      },
      "outputs": [],
      "source": [
        "count = 1             #1. the starting point\n",
        "while (count < 5):    #2. the condition till which the loop should keep on going and \n",
        "\n",
        "  #----Do Something here----\n",
        "  print(count)\n",
        "  #-------------------------\n",
        "\n",
        "  count = count + 1   #3. add a number to the starting point "
      ]
    },
    {
      "cell_type": "markdown",
      "source": [
        "✅ don't forget to do **count = count + 1** in the end (inside the loop). Or the loop will go crazy!!! 😵"
      ],
      "metadata": {
        "id": "3_fyZ2poAfqk"
      }
    },
    {
      "cell_type": "markdown",
      "source": [
        "## A Photocopy Machine\n",
        "The photocopy machine takes a sentence from the user and prints it 3 times.\n",
        "\n",
        "### Your paper work... To Think... 🤔\n",
        "\n",
        "⭐ **Let's consider the steps first...**\n",
        "\n",
        "- Take input sentence from the user\n",
        "- start photocopy machine with a count of 0 (means nothing has been printed yet)\n",
        "- print first time and increase the count as 1\n",
        "- print second time and increase the count as 2\n",
        "- print third time and increase the count as 3\n",
        "\n",
        "👀 **Now Let's think a bit deep about it...**\n",
        "\n",
        "- Take input from the user... that's okay... we know how to do it... 😏\n",
        "- start photocopy machine with a count of 0...we know how to do it as well... 😏\n",
        "- print first time (use `print()`) and increase count as 1 (do: 0 + 1 = 1)\n",
        "- print second time (use `print()`) and increase count as 2 (do: 1 + 1 = 2)\n",
        "- print third time (use `print()`) and increase count as 3 (do: 2 + 1 = 3)\n",
        "\n",
        "📄 **Now Note the stuff like...**\n",
        "\n",
        "- there is repetition in the last three lines... where it says that print and increase count.\n",
        "\n",
        "✅ **Where there is repetition... We use the LOOP... 😎**\n",
        " \n",
        "- So it means that the line: **print and increase count** should be inside the loop\n",
        "\n",
        "\n",
        "\n"
      ],
      "metadata": {
        "id": "F7xQAO0RA5l3"
      }
    },
    {
      "cell_type": "markdown",
      "source": [
        "Now... Let's Code!!"
      ],
      "metadata": {
        "id": "APZgX4ViFmI3"
      }
    },
    {
      "cell_type": "code",
      "source": [
        "sentence = input(\"Enter a sentence: \")\n",
        "count = 0\n",
        "while (count < 3):    # because we have to print three times\n",
        "  print(sentence)     # print the sentence\n",
        "  count = count + 1   # increase the count by 1"
      ],
      "metadata": {
        "id": "3hjCUI2tFkJ0"
      },
      "execution_count": null,
      "outputs": []
    },
    {
      "cell_type": "markdown",
      "source": [
        "\n",
        "\n",
        "---\n",
        "\n",
        "\n",
        "# Even Odd Numbers Detector\n",
        "\n",
        "The user enters a number 3 times and each time the detector tells him if the number is even or odd...\n",
        "\n",
        "⭐ **Let's consider the steps first...**\n",
        "\n",
        "- Take first number from the user\n",
        "  - if number is even print **Cool! This Number is Even!**\n",
        "  - otherwise print **Awesome! It's an Odd Number**\n",
        "- Take second number from the user\n",
        "  - if number is even print **Cool! This Number is Even!**\n",
        "  - otherwise print **Awesome! It's an Odd Number**\n",
        "- Take third number from the user\n",
        "  - if number is even print **Cool! This Number is Even!**\n",
        "  - otherwise print **Awesome! It's an Odd Number**\n",
        "\n",
        "👀 **Now Let's think a bit deep about it...**\n",
        "\n",
        "- For dealing with doing the things 1st time, 2nd time, 3rd time... we would need a counter...\n",
        "  - so we start the count from 0 and add 1 to it every time like **count = count + 1** inside the loop...\n",
        "- Two things are repeting here...\n",
        "  - Taking input from the user\n",
        "  - Showing him if the number is even or odd...\n",
        "- So, we add both things inside the loop as well"
      ],
      "metadata": {
        "id": "gINVo-QtIXv4"
      }
    },
    {
      "cell_type": "markdown",
      "source": [
        "Now Let's Code!!! 😎\n",
        "\n",
        "First we make a code for just going from 1 to 3 inside the loop... because we have to take input from the user three times...\n",
        "\n",
        "It's exactly the same as we did before... 🙃"
      ],
      "metadata": {
        "id": "Xb8RwR0dKK5X"
      }
    },
    {
      "cell_type": "code",
      "source": [
        "count = 0\n",
        "while (count < 3):\n",
        "  count = count + 1"
      ],
      "metadata": {
        "id": "Rjbu-5f8KKNt"
      },
      "execution_count": null,
      "outputs": []
    },
    {
      "cell_type": "markdown",
      "source": [
        "Now... Let's add the two things inside our loop..."
      ],
      "metadata": {
        "id": "UiJ0sVsXKquN"
      }
    },
    {
      "cell_type": "code",
      "source": [
        "count = 0\n",
        "while (count < 3):\n",
        "\n",
        "  #----Check this out----\n",
        "  \n",
        "  number = int(input(\"Enter any number: \"))\n",
        "  #here show the user if it's even or odd...\n",
        "\n",
        "  #----------------------\n",
        "\n",
        "  count = count + 1"
      ],
      "metadata": {
        "id": "FlffRUVqKvUV"
      },
      "execution_count": null,
      "outputs": []
    },
    {
      "cell_type": "markdown",
      "source": [
        "👀 Now if you check out the print part closely it goes like this:\n",
        "\n",
        "- **if** number is even print *Cool! This Number is Even!*\n",
        "- **otherwise** print *Awesome! It's an Odd Number*\n",
        "\n",
        "It means that we have to use an **if-else** part over here...\n",
        "\n",
        "Now Let's add it to our Number Detector 🤪\n"
      ],
      "metadata": {
        "id": "xuk-EBr2K_gA"
      }
    },
    {
      "cell_type": "code",
      "source": [
        "count = 0\n",
        "while (count < 3):\n",
        "  \n",
        "  number = int(input(\"Enter any number: \"))\n",
        "\n",
        "  #----Now Check this out----\n",
        "\n",
        "  if(number % 2 == 0):                    #if a number is divisible by 2 it means that it's even\n",
        "    print(\"Cool! This Number is Even!\")\n",
        "  else:\n",
        "    print(\"Awesome! It's an Odd Number\")\n",
        "\n",
        "  #----------------------\n",
        "\n",
        "  count = count + 1"
      ],
      "metadata": {
        "id": "FDyMKUuNLe-q"
      },
      "execution_count": null,
      "outputs": []
    },
    {
      "cell_type": "markdown",
      "source": [
        "## To Do:\n",
        "**Task 1:** Now you can try to use while loop and show all even numbers from 1 to 50.\n",
        "\n",
        "**Task 2:** You can also try to make a **word detector** just like a number detector... You can ask the user **Do you want to eat spaghetti?** after that the detector will detect if the user enters a **Yes** or a **No** and then show him a cool message according to that..."
      ],
      "metadata": {
        "id": "fZLjIwp9MBhu"
      }
    }
  ]
}