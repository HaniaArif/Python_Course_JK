{
  "nbformat": 4,
  "nbformat_minor": 0,
  "metadata": {
    "colab": {
      "provenance": [],
      "authorship_tag": "ABX9TyPP3teTYwBWgsTEGJbbsdGl",
      "include_colab_link": true
    },
    "kernelspec": {
      "name": "python3",
      "display_name": "Python 3"
    },
    "language_info": {
      "name": "python"
    }
  },
  "cells": [
    {
      "cell_type": "markdown",
      "metadata": {
        "id": "view-in-github",
        "colab_type": "text"
      },
      "source": [
        "<a href=\"https://colab.research.google.com/github/HaniaArif/Python/blob/main/Lesson%2011%20Using%20Break%20and%20Continue/Fun_'Break'_and_'Continue'_python_statements.ipynb\" target=\"_parent\"><img src=\"https://colab.research.google.com/assets/colab-badge.svg\" alt=\"Open In Colab\"/></a>"
      ]
    },
    {
      "cell_type": "markdown",
      "source": [
        "#Break\n",
        "\n",
        "**Eat a Bagel 🥯 and Take a Break! 👾**\n",
        "\n",
        "⚡ We use `break` when we want to stop ✋ or you can say as **break** a loop at some specific point and you don't want to carry on the work within the loop any more ...\n",
        "\n",
        "It's just like when a teacher says to the class to *take a break!* Means just stop what ever you had been doing... \n",
        "\n",
        "Simple is that! 🙃   \n",
        "\n"
      ],
      "metadata": {
        "id": "CEW3aG9-gm_6"
      }
    },
    {
      "cell_type": "markdown",
      "source": [
        "###Test taking teacher 🎓\n",
        "Think of a teacher who takes 10 tests in a semester..."
      ],
      "metadata": {
        "id": "Z2zUphVIifIA"
      }
    },
    {
      "cell_type": "code",
      "execution_count": null,
      "metadata": {
        "id": "Zy06CXxLe5i_"
      },
      "outputs": [],
      "source": [
        "count = 1\n",
        "while(count <= 10):\n",
        "  #do something\n",
        "  print(\"This is your test \", count)\n",
        "\n",
        "  count = count + 1"
      ]
    },
    {
      "cell_type": "markdown",
      "source": [
        "but this year the teacher decides to break the test cycle and take only 5 tests... YAY!!! 🤪"
      ],
      "metadata": {
        "id": "eYXaJXoBn06z"
      }
    },
    {
      "cell_type": "code",
      "source": [
        "count = 1\n",
        "while(count <= 10):\n",
        "  #do something\n",
        "  print(\"This is your test \", count)\n",
        "\n",
        "  if(count == 5):\n",
        "    print(\"This is your last test\")\n",
        "    break\n",
        "\n",
        "  count = count + 1"
      ],
      "metadata": {
        "id": "tiVlIWJnoHNJ"
      },
      "execution_count": null,
      "outputs": []
    },
    {
      "cell_type": "markdown",
      "source": [
        "See... it was simple... 😎\n",
        "\n",
        "\n",
        "---\n",
        "###Color Guessing Game\n",
        "This is Purple 👾... Yeah... you know it 🙃 And the other person has to guess the color... but he has only 3 chances to guess the right color...\n"
      ],
      "metadata": {
        "id": "BPX3HrLYqc8A"
      }
    },
    {
      "cell_type": "code",
      "source": [
        "count = 0\n",
        "while(count < 3):\n",
        "  #do something\n",
        "  color = input(\"Guess the color: \")\n",
        "\n",
        "  count = count + 1"
      ],
      "metadata": {
        "id": "1GQc2Dn3rakn"
      },
      "execution_count": null,
      "outputs": []
    },
    {
      "cell_type": "markdown",
      "source": [
        "So... when the other person guesses the purple color correctly, the game will end and he wins... 😎"
      ],
      "metadata": {
        "id": "Q70SNolursoT"
      }
    },
    {
      "cell_type": "code",
      "source": [
        "count = 0\n",
        "while(count < 3):\n",
        "  #do something\n",
        "  color = input(\"Guess the color: \")\n",
        "\n",
        "  if(color == \"purple\"):\n",
        "    print(\"Yay! You won\")\n",
        "    break\n",
        "\n",
        "  count = count + 1"
      ],
      "metadata": {
        "id": "-6pY0oFdr4kD"
      },
      "execution_count": null,
      "outputs": []
    },
    {
      "cell_type": "markdown",
      "source": [
        "Now you can get some coffee... 🥃 and take a **Break**! "
      ],
      "metadata": {
        "id": "QrsK7S_ssN23"
      }
    },
    {
      "cell_type": "markdown",
      "source": [
        "\n",
        "\n",
        "---\n",
        "\n",
        "#Continue \n",
        "\n",
        "**Stop Now, Leave the rest of the stuff and 'Continue' Tomorrow 😎 **\n",
        "\n",
        "⚡ We use continue when we have to skip or leave the rest of the stuff in the loop and continue from the top of the loop again..."
      ],
      "metadata": {
        "id": "R8tmIyZgs02W"
      }
    },
    {
      "cell_type": "markdown",
      "source": [
        "###A super secret detective... 👀\n",
        "Suppose... You are **Lary** (not Lary the fish, but detective Lary 😀)\n",
        "And you have a top secret app in which only you can login with your name... "
      ],
      "metadata": {
        "id": "TBgpi4zctkan"
      }
    },
    {
      "cell_type": "code",
      "source": [
        "count = 0\n",
        "while(count < 3):\n",
        "  #do something\n",
        "  name = input(\"Who are you?\")\n",
        "  print(\"Hi\", name, \"Welcome to the Top Secret App\")\n",
        "\n",
        "  count = count + 1"
      ],
      "metadata": {
        "id": "15JOlqTcuTjS"
      },
      "execution_count": null,
      "outputs": []
    },
    {
      "cell_type": "markdown",
      "source": [
        "🤔 But what if someone else tries to login to your top secret app... \n",
        "\n",
        "Let's make it secure... \n",
        "\n",
        "If there the name of the person to login is not Lary... it means it's not you..."
      ],
      "metadata": {
        "id": "VqKR4KuAuxRd"
      }
    },
    {
      "cell_type": "code",
      "source": [
        "count = 0\n",
        "while(count < 3):\n",
        "  #do something\n",
        "  name = input(\"Who are you?\")\n",
        "\n",
        "  if(name != \"Lary\"): #means that if it's not you\n",
        "    continue          #don't let the person get into the app \n",
        "                      #and go back to the top of the loop\n",
        "\n",
        "  print(\"Hi\", name, \"Welcome to the Top Secret App\")          \n",
        "\n",
        "  count = count + 1"
      ],
      "metadata": {
        "id": "-fTb4UDIvOVi"
      },
      "execution_count": null,
      "outputs": []
    },
    {
      "cell_type": "markdown",
      "source": [
        "That was some cool stuff... 😎"
      ],
      "metadata": {
        "id": "jqriMSIUvnEj"
      }
    },
    {
      "cell_type": "markdown",
      "source": [
        "###To Do:\n",
        "**Now You try:**\n",
        "\n",
        "Use this code for the Top Secret App and you have to make it more secure (it's the same code as above just without the counter):\n",
        "\n",
        "    while(True):    #just keep on doing it without counting how many times you have to do it\n",
        "      #do something\n",
        "      name = input(\"Who are you?\")\n",
        "\n",
        "      if(name != \"Lary\"): #means that if it's not you\n",
        "        continue          #don't let the person get into the app \n",
        "                          #and go back to the top of the loop\n",
        "\n",
        "      print(\"Hi\", name, \"Welcome to the Top Secret App\")   \n",
        "\n",
        "      #----ADD STUFF HERE----       \n",
        "\n",
        "\n",
        "Do this... \n",
        "1. Ask the person for the password\n",
        "2. if the password matches with \"agent12\"\n",
        "- then say him \"You have successfully logged in Agent Lary\" \n",
        "- and break out of the loop\n",
        "3. otherwise\n",
        "- say him \"You are a fish\"\n",
        "- and continue back to the top of the loop\n",
        "\n",
        "✅ In this way the person will be only able to login to the Top Secret App if his name is **\"Lary\"** and his password is **\"agent12\"** otherwise he will not be able to login at all and he will just keep on going round and round in the while loop like crazy... 🤪"
      ],
      "metadata": {
        "id": "U_Xc_gcbv9fI"
      }
    }
  ]
}