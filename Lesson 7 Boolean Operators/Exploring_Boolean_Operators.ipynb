{
  "nbformat": 4,
  "nbformat_minor": 0,
  "metadata": {
    "colab": {
      "name": "Exploring Boolean Operators.ipynb",
      "provenance": [],
      "collapsed_sections": [],
      "authorship_tag": "ABX9TyMKIjaORwh5csh21f1eEJd/",
      "include_colab_link": true
    },
    "kernelspec": {
      "name": "python3",
      "display_name": "Python 3"
    },
    "language_info": {
      "name": "python"
    }
  },
  "cells": [
    {
      "cell_type": "markdown",
      "metadata": {
        "id": "view-in-github",
        "colab_type": "text"
      },
      "source": [
        "<a href=\"https://colab.research.google.com/github/HaniaArif/Python/blob/main/Lesson%207%20Boolean%20Operators/Exploring_Boolean_Operators.ipynb\" target=\"_parent\"><img src=\"https://colab.research.google.com/assets/colab-badge.svg\" alt=\"Open In Colab\"/></a>"
      ]
    },
    {
      "cell_type": "markdown",
      "source": [
        "Wait!... What's \"**Boolean\"**?\n",
        "##Boolean\n",
        "It simply means **True** or **False**. Or may be some times we use **Yes** or **No**.  \n",
        "\n",
        "That's booooooo 👻 + lean = boolean 🤪"
      ],
      "metadata": {
        "id": "3Nu2QY7kJble"
      }
    },
    {
      "cell_type": "markdown",
      "source": [
        "\n",
        "\n",
        "---\n",
        "\n",
        "#Boolean Operators\n",
        "The operators that give boolean answer. We have 3 boolean operators:\n",
        "\n",
        "*   **and**\n",
        "*   **or**\n",
        "*   **not**\n",
        "\n",
        "⚡ Just use them as you use them in daily life!!! "
      ],
      "metadata": {
        "id": "5jbCzE9ZK6ds"
      }
    },
    {
      "cell_type": "markdown",
      "source": [
        "\n",
        "\n",
        "---\n",
        "\n",
        "##and\n",
        "First let's just check out that how **and** works... "
      ],
      "metadata": {
        "id": "oBA0zOlhMoYc"
      }
    },
    {
      "cell_type": "code",
      "execution_count": null,
      "metadata": {
        "id": "-wNHprGJJEjG"
      },
      "outputs": [],
      "source": [
        "print(\"True and True is =\", True and True)\n",
        "print(\"True and False is =\", True and False)\n",
        "print(\"False and True is =\", False and True)\n",
        "print(\"False and False is =\", False and False)"
      ]
    },
    {
      "cell_type": "markdown",
      "source": [
        "Now... Let's make something crazy!!! 🤪"
      ],
      "metadata": {
        "id": "KLwO14XNNT00"
      }
    },
    {
      "cell_type": "code",
      "source": [
        "John = \"crazy\"    #john is a crazy person\n",
        "#let's take three random numbers too\n",
        "number1 = -5\n",
        "number2 = 1\n",
        "number3 = 10\n",
        "\n",
        "print(\"John is not crazy and (number 1 < number 2) and (number 3 > number 2):\")\n",
        "print((John == \"okay\") and (number1 < number2) and (number3 > number2))\n",
        "print()   #show an empty line\n",
        "\n",
        "print(\"John is actualy crazy and (number 1 < number 2) and (number 3 < number 2):\")\n",
        "print((John == \"crazy\") and (number1 < number2) and (number3 < number2))\n",
        "print()   #show an empty line\n",
        "\n",
        "print(\"John is still crazy and (number 1 < number 2) and (number 3 > number 2):\")\n",
        "print((John == \"crazy\") and (number1 < number2) and (number3 > number2))\n",
        "print()   #show an empty line"
      ],
      "metadata": {
        "id": "B17gOMW9PULK"
      },
      "execution_count": null,
      "outputs": []
    },
    {
      "cell_type": "markdown",
      "source": [
        "\n",
        "\n",
        "---\n",
        "#or\n",
        "Now let's just check out that how **or** works... \n"
      ],
      "metadata": {
        "id": "Pk4FDYbmQ3ay"
      }
    },
    {
      "cell_type": "code",
      "source": [
        "print(\"True or True is =\", True or True)\n",
        "print(\"True or False is =\", True or False)\n",
        "print(\"False or True is =\", False or True)\n",
        "print(\"False or False is =\", False or False)"
      ],
      "metadata": {
        "id": "rCUFo_4vRDH0"
      },
      "execution_count": null,
      "outputs": []
    },
    {
      "cell_type": "markdown",
      "source": [
        "Now... Let's make a **juice maker** 🥃 that makes juice according to the fruits available to it. "
      ],
      "metadata": {
        "id": "n_ibnfV0RKUX"
      }
    },
    {
      "cell_type": "code",
      "source": [
        "banana = True         #banana is present in your freezer\n",
        "mango = True          #you found a mango from your freezer as well\n",
        "strawberry = False    #sadly you didn't find any strawberry in your freezer\n",
        "apple = False          #you found an apple as well from your freezer\n",
        "orange = False        #but there were no oranges in your freezer\n",
        "\n",
        "#-------JUICE MAKER-------\n",
        "if(banana or mango or strawberry):\n",
        "  print(\"Your milkshake is ready\")\n",
        "  print(\"Here you go!\")\n",
        "  print(\"  |-----|   \")\n",
        "  print(\"  |     |   \")\n",
        "  print(\"  |_____|   \")\n",
        "\n",
        "if(strawberry or apple):\n",
        "  print(\"Your juice is ready\")\n",
        "  print(\"Here you go!\")\n",
        "  print(\"  |.....|   \")\n",
        "  print(\"  |     |   \")\n",
        "  print(\"  |_____|   \")\n",
        "\n",
        "if(apple or orange or mango):\n",
        "  print(\"Your mix fruit juice is ready\")\n",
        "  print(\"Here you go!\")\n",
        "  print(\"  |.....|   \")\n",
        "  print(\"  |-----|   \")\n",
        "  print(\"  |_____|   \")"
      ],
      "metadata": {
        "id": "OQNTy8hmR-tP"
      },
      "execution_count": null,
      "outputs": []
    },
    {
      "cell_type": "markdown",
      "source": [
        "\n",
        "\n",
        "---\n",
        "#not\n",
        "let's **not** check out 😲"
      ],
      "metadata": {
        "id": "jNNOGkm8TqMV"
      }
    },
    {
      "cell_type": "code",
      "source": [
        "print(\"not True is =\", not (True))\n",
        "print(\"not False is =\", not (False))"
      ],
      "metadata": {
        "id": "K73TnR4-UISO"
      },
      "execution_count": null,
      "outputs": []
    },
    {
      "cell_type": "markdown",
      "source": [
        "Now... let's make a weather forecaster that also tells you what to wear according to weather 💦"
      ],
      "metadata": {
        "id": "lS-hPO5mUTlb"
      }
    },
    {
      "cell_type": "code",
      "source": [
        "rain = True\n",
        "summer = False\n",
        "print(\"Is it raining Today?\", rain)\n",
        "print(\"Will it be raining tomorrow?\", not rain)\n",
        "\n",
        "if(summer):\n",
        "  print(\"Today it is hot outside. Wear a cap.\")\n",
        "elif(not summer):\n",
        "  print(\"Today it is not too hot outside. Just wear a Jacket.\")"
      ],
      "metadata": {
        "id": "lilukCEZUpb_"
      },
      "execution_count": null,
      "outputs": []
    },
    {
      "cell_type": "markdown",
      "source": [
        "\n",
        "\n",
        "---\n",
        "\n",
        "\n",
        "but... in real life when we make decisions we think about many things like a combination of **and, or, not** - all of them... \n",
        "\n",
        "##🤔\n",
        "So, can we use all there together to make a decision?\n",
        "\n",
        "✅ Yes we can... \n",
        "\n",
        "Let's make our weather forecaster a bit more cool by using all three things together! **\"and, or, not\"**"
      ],
      "metadata": {
        "id": "D3pJPYx6Vjuf"
      }
    },
    {
      "cell_type": "code",
      "source": [
        "weather = \"summer\"      #it can be summer, winter or spring\n",
        "rain = True\n",
        "\n",
        "if(weather == \"summer\" or weather == \"spring\" and not(rain)):\n",
        "  #if it is summer or spring and it is not raining outside then:\n",
        "\n",
        "  if(weather == \"summer\"):    #if it's summer\n",
        "    print(\"It's really hot outside\")\n",
        "  else:                       #if it's spring\n",
        "    print(\"It's a pleasant weather outside\")\n",
        "\n",
        "\n",
        "elif(weather == \"winter\" and rain):\n",
        "  #its winter and it's raining outside\n",
        "  print(\"It's very cold outside. Wear a coat and get an umbrella\")"
      ],
      "metadata": {
        "id": "DS2nQJM1Wcmq"
      },
      "execution_count": null,
      "outputs": []
    },
    {
      "cell_type": "markdown",
      "source": [
        "\n",
        "\n",
        "---\n",
        "\n",
        "\n",
        "#To Do:\n",
        "Now you can try to make a number finder that asks for a number from the user and checks that:\n",
        "\n",
        "1. if the number is zero - it says something like \"oops it's a zero\"\n",
        "2. if the number is between 1 and 5; OR; the number is between -1 and -5,then it says something like **it's a low number**\n",
        "3. if the number is between 6 and 10; OR; the number is between -6 and -10,then it says something like **it's a high number**\n",
        "4. if the user enters any number other number then it says like **it's just a regular number**"
      ],
      "metadata": {
        "id": "4eKOE4kAt7_e"
      }
    }
  ]
}