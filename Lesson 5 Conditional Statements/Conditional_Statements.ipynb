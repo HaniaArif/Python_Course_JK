{
  "nbformat": 4,
  "nbformat_minor": 0,
  "metadata": {
    "colab": {
      "name": "Conditional Statements.ipynb",
      "provenance": [],
      "collapsed_sections": [],
      "authorship_tag": "ABX9TyNxZCLAhf15cBR/t9mXJ39+",
      "include_colab_link": true
    },
    "kernelspec": {
      "name": "python3",
      "display_name": "Python 3"
    },
    "language_info": {
      "name": "python"
    }
  },
  "cells": [
    {
      "cell_type": "markdown",
      "metadata": {
        "id": "view-in-github",
        "colab_type": "text"
      },
      "source": [
        "<a href=\"https://colab.research.google.com/github/HaniaArif/Python/blob/main/Lesson%205%20Conditional%20Statements%20/%20Conditional_Statements.ipynb\" target=\"_parent\"><img src=\"https://colab.research.google.com/assets/colab-badge.svg\" alt=\"Open In Colab\"/></a>"
      ]
    },
    {
      "cell_type": "markdown",
      "source": [
        "Conditional Statements are used to **make decisions based one some condition**"
      ],
      "metadata": {
        "id": "aYNFDAMYium-"
      }
    },
    {
      "cell_type": "markdown",
      "source": [
        "#if\n",
        "    if(condition):\n",
        "        do this\n",
        "\n",
        "👀 Let's make some decisions to buy groceries or not.\n"
      ],
      "metadata": {
        "id": "ZJRATlLcjmVA"
      }
    },
    {
      "cell_type": "code",
      "execution_count": null,
      "metadata": {
        "id": "Z78nh_MrB30R"
      },
      "outputs": [],
      "source": [
        "pineapple = 2                   #you already have two pineapples\n",
        "apples = 0                      #but the apples are finished\n",
        "\n",
        "if(pineapple == 0):             #if pineapples are finished then       \n",
        "  print(\"Buy pineapples\")           #buy pineapples\n",
        "\n",
        "if(apples == 0):                #if apples are finished then\n",
        "  print(\"Buy apples\")               #buy apples"
      ]
    },
    {
      "cell_type": "markdown",
      "source": [
        "✅ The block of the `if` statement only works when the condition is **true**\n",
        "\n",
        "Let's try to make one more decision to have coffee 🍺 or not 😎"
      ],
      "metadata": {
        "id": "KW9aS36xlEtZ"
      }
    },
    {
      "cell_type": "code",
      "source": [
        "tired = True                    \n",
        "\n",
        "#in python we can use True or False direclty to say yes or no :)\n",
        "# so tired = True means that yes i am tired\n",
        "\n",
        "if(tired == True):\n",
        "  print(\"Drink Coffee\")\n",
        "  print(\"  |'''''|   \")\n",
        "  print(\"  |     |D  \")\n",
        "  print(\"  |_____|   \")\n",
        "  \n",
        "\n",
        "if(tired == False):\n",
        "  print(\"Have an orange\")"
      ],
      "metadata": {
        "id": "TfMt_xNZloLO"
      },
      "execution_count": null,
      "outputs": []
    },
    {
      "cell_type": "markdown",
      "source": [
        "\n",
        "\n",
        "---\n",
        "\n",
        "\n",
        "#if-else\n",
        "      if (condition):\n",
        "          do this\n",
        "      else:\n",
        "          do that\n",
        "⚡ there are **no brackets** in front of the word **else**\n",
        "\n",
        "👀 Let's try the same coffee example but with **if-else**"
      ],
      "metadata": {
        "id": "jmu2TUdzm2kU"
      }
    },
    {
      "cell_type": "code",
      "source": [
        "tired = False\n",
        "\n",
        "if(tired == True):\n",
        "  print(\"Drink Coffee\")\n",
        "  print(\"  |'''''|   \")\n",
        "  print(\"  |     |D  \")\n",
        "  print(\"  |_____|   \")\n",
        "\n",
        "else:\n",
        "  print(\"Have an orange\")\n",
        "  print(\"Have an apple\")\n",
        "  print(\"Also have an crazy oreos milk-shake with a lot of oreos\")\n",
        "  print(\" |/////|   \")\n",
        "  print(\" |ooooo|D  \")\n",
        "  print(\" |_____|   \")"
      ],
      "metadata": {
        "id": "9JgnB9JqnI6E"
      },
      "execution_count": null,
      "outputs": []
    },
    {
      "cell_type": "markdown",
      "source": [
        "That's all for now. Happy Crazy Coding 🙃"
      ],
      "metadata": {
        "id": "_eGkK1xppf2M"
      }
    }
  ]
}