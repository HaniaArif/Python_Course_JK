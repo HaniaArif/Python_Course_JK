{
  "nbformat": 4,
  "nbformat_minor": 0,
  "metadata": {
    "colab": {
      "name": "exploring python elif.ipynb",
      "provenance": [],
      "collapsed_sections": [],
      "authorship_tag": "ABX9TyN4soGVxGjgMD4Q259eIhDT",
      "include_colab_link": true
    },
    "kernelspec": {
      "name": "python3",
      "display_name": "Python 3"
    },
    "language_info": {
      "name": "python"
    }
  },
  "cells": [
    {
      "cell_type": "markdown",
      "metadata": {
        "id": "view-in-github",
        "colab_type": "text"
      },
      "source": [
        "<a href=\"https://colab.research.google.com/github/HaniaArif/Python/blob/main/Lesson%206%20Conditional%20Statements%20(elif)%20/%20exploring_python_elif.ipynb\" target=\"_parent\"><img src=\"https://colab.research.google.com/assets/colab-badge.svg\" alt=\"Open In Colab\"/></a>"
      ]
    },
    {
      "cell_type": "markdown",
      "source": [
        "#Exploring python elif\n",
        "⚡ elif is a short form of **else if** - as we had done in the session. \n",
        "\n",
        "⚡ we can write a condition in the elif and it runs if:\n",
        "\n",
        "1. the **if** block and the **other conditions above this elif block** are **false**\n",
        "2. the **condition of this elif block** is **true**\n",
        "\n",
        "\n",
        "---\n",
        "\n",
        "👀 **For exmaple:**\n",
        "\n",
        "```\n",
        "if(condition1):\n",
        "  do something\n",
        "elif(condition2):\n",
        "  do the other thing\n",
        "elif(condition3):\n",
        "  do totally other thing\n",
        "else:\n",
        "  do something else\n",
        "```\n",
        "\n",
        "*the second elif block with condition3 will only run if the condition1 and condition2 will be false and condition3 will be true.*\n",
        "\n",
        "\n",
        "---\n",
        "Now... Let's code...!!! 😎\n",
        "\n",
        "##Vampire Detector\n",
        "\n",
        "Today we will make a **vampire 🧛 detector** by taking the name and age from the person and then check if that person is a vampire or not. 🙃\n",
        "\n",
        "\n",
        "\n"
      ],
      "metadata": {
        "id": "Kh_KGvvLGCJ0"
      }
    },
    {
      "cell_type": "code",
      "execution_count": null,
      "metadata": {
        "id": "bE-BfSAvF17f"
      },
      "outputs": [],
      "source": [
        "name = input(\"What is your name? \")     #we don't convert this to number because this is a name\n",
        "age = int(input(\"What is your age? \"))  #we convert this to number because age is a number \n",
        "\n",
        "\n",
        "if name == \"Leo\":\n",
        "  print(\"Hi, Leo.\")\n",
        "\n",
        "elif age < 12:\n",
        "  print(\"Hey\", name, \"! You are not Leo.\")\n",
        "\n",
        "elif age > 2000:\n",
        "  print(\"Unlike you\", name \", Leo is not an undead immortal vampire. :o\")\n",
        "\n",
        "elif age > 100:\n",
        "  print(name, ', you are not Leo. You are a granny.')"
      ]
    },
    {
      "cell_type": "markdown",
      "source": [
        "✅ depending upon what you want to do, **it's okay to not use the else part at the end of elif**. \n",
        "\n",
        "👀 we had also seen that we can use only **if without an else**. same can be the case over here as well. "
      ],
      "metadata": {
        "id": "UAETDtPRKJnR"
      }
    },
    {
      "cell_type": "markdown",
      "source": [
        "\n",
        "\n",
        "---\n",
        "##Factor Detector \n",
        "Let's have one more crazy code 🤪\n",
        "\n",
        "Let's make a **factor 🔢 detector** which can detect if a number is a factor of 2, 3, 5 or may be the number is not a factor of any of these. \n",
        "\n",
        "🤔 if the number is completely divisible by 2 (which means that the remainder is zero after division) then it will be a factor of 2 and same is the case for the factors of 3 and 5."
      ],
      "metadata": {
        "id": "NgkDgadSLV_e"
      }
    },
    {
      "cell_type": "code",
      "source": [
        "number = int(input(\"Enter any number: \"))\n",
        "\n",
        "if(number % 2 == 0):        # if remainder of number/2 = 0 \n",
        "  print(number, \"is a factor of 2\")\n",
        "\n",
        "elif(number % 3 == 0):      # if remainder of number/3 = 0 \n",
        "  print(number, \"is a factor of 3\")\n",
        "\n",
        "elif(number % 5 == 0):      # if remainder of number/5 = 0 \n",
        "  print(number, \"is a factor of 5\")\n",
        "\n",
        "else:      # if remainder of number/3 = 0 \n",
        "  print(number, \"is a just a random number which is not a factor of 2, 3 or 5\")\n"
      ],
      "metadata": {
        "id": "X3inKPRjMHA_"
      },
      "execution_count": null,
      "outputs": []
    },
    {
      "cell_type": "markdown",
      "source": [
        "now that was something... 😎 phew... 🙃\n",
        "\n",
        "✅ We have used the else part over here because we needed it.\n",
        "\n",
        "\n",
        "---\n",
        "#Fare Calculator\n",
        "Now for the last one... Let's make a **fare 💰 calculator** that calculates the bus fare according to the distance a person has to travel... \n"
      ],
      "metadata": {
        "id": "dLcgd_SMNzFt"
      }
    },
    {
      "cell_type": "code",
      "source": [
        "#let's first set the value of fare\n",
        "fare = 5\n",
        "\n",
        "#then ask the distance he has to travel\n",
        "distance = int(input(\"Enter distance you want to travel: \"))\n",
        "\n",
        "#now let's calculate the fare\n",
        "if(distance < 10):\n",
        "  fare = fare * 10\n",
        "\n",
        "elif(distance < 20):  #but it is greater than 10\n",
        "  fare = fare * 20\n",
        "\n",
        "elif(distance < 30):  #but it is greater than 20\n",
        "  fare = fare * 30\n",
        "  \n",
        "else:\n",
        "  fare = fare * 50\n",
        "\n",
        "print(\"Your fare will be\", fare, \"cents.\")"
      ],
      "metadata": {
        "id": "jEMYDqC_mFDS"
      },
      "execution_count": null,
      "outputs": []
    },
    {
      "cell_type": "markdown",
      "source": [
        "\n",
        "---\n",
        "\n",
        "That's all for now... Happy Coding 🙃\n",
        "\n",
        "> Now you can try making a **Rocket speed calculator** 🚀. Here is how to do it:\n",
        "\n",
        "1. The calculator takes the speed of the rocket as an input from the user. And the user has to enter only speed between 1 to 9.\n",
        "2. If the number is less than one or greater than 9, the calculator shows an error and adds -1 to the speed.\n",
        "3. If the number is between 1 and 9 the calculator, the calculator shows some cool message and adds 10 to the speed.\n",
        "4. At the end, the speed calculator multiples the calculated speed with 100 and displays the final speed of the rocket."
      ],
      "metadata": {
        "id": "bHWn7t4YUHTI"
      }
    }
  ]
}