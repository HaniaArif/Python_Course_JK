{
  "nbformat": 4,
  "nbformat_minor": 0,
  "metadata": {
    "colab": {
      "name": "exploring python input().ipynb",
      "provenance": [],
      "collapsed_sections": [],
      "authorship_tag": "ABX9TyPPa2JAKAUbkjx3xMoVw1Kl",
      "include_colab_link": true
    },
    "kernelspec": {
      "name": "python3",
      "display_name": "Python 3"
    },
    "language_info": {
      "name": "python"
    }
  },
  "cells": [
    {
      "cell_type": "markdown",
      "metadata": {
        "id": "view-in-github",
        "colab_type": "text"
      },
      "source": [
        "<a href=\"https://colab.research.google.com/github/HaniaArif/Python/blob/main/Lesson%202%20Using%20Input%20/%20exploring_python_input().ipynb\" target=\"_parent\"><img src=\"https://colab.research.google.com/assets/colab-badge.svg\" alt=\"Open In Colab\"/></a>"
      ]
    },
    {
      "cell_type": "markdown",
      "source": [
        "#Exploring Python input()\n",
        "\n",
        "Click on the code of first block, run it by using the small play button (▶) on its left side. Just like that run all the blocks one by one by using the small play button and check out what happens 😎\n",
        "\n",
        "👀 *The results will show right under the block you run*"
      ],
      "metadata": {
        "id": "lRq_38nbjzLV"
      }
    },
    {
      "cell_type": "markdown",
      "source": [
        "⚡ **Prompt message and input in two separate lines**\n",
        "\n",
        "1.   Show prompt message\n",
        "2.   Take input from user\n"
      ],
      "metadata": {
        "id": "7TbNrkF1kAm0"
      }
    },
    {
      "cell_type": "code",
      "execution_count": null,
      "metadata": {
        "id": "05P8SVPPjodO"
      },
      "outputs": [],
      "source": [
        "#1. Show prompt message\n",
        "print(\"Can cookie monster count how much cookies are left?\")\n",
        "\n",
        "#2. Take input from user\n",
        "answer = input()\n",
        "\n",
        "print(\"You might be right, but i think he cannot. Becuase there is none left after he eats them.\")"
      ]
    },
    {
      "cell_type": "markdown",
      "source": [
        "⚡ **Prompt message and input in the same line**\n",
        "\n",
        "1.   Put prompt message inside input brackets"
      ],
      "metadata": {
        "id": "muM5PHDXp2xO"
      }
    },
    {
      "cell_type": "code",
      "source": [
        "# put prompt message inside brackets\n",
        "answer = input(\"How does the fish 'lary' eat?\")\n",
        "\n",
        "print(\"You might be right, but i think just eats by doing nom nom.\")"
      ],
      "metadata": {
        "id": "SYQ2cnw9qVTS"
      },
      "execution_count": null,
      "outputs": []
    },
    {
      "cell_type": "markdown",
      "source": [
        "#🤔\n",
        "But... what if I want to use the value of some other variable in the prompt message?\n",
        "\n",
        "👀 Let's make a smart fish robot (🐟 << His name is Lary) who uses variables to ask a lot of silly questions. 😎"
      ],
      "metadata": {
        "id": "rfcg6GIbrbpr"
      }
    },
    {
      "cell_type": "markdown",
      "source": [
        "⚡ **Prompt message and input in two separate lines**\n",
        "\n",
        "🙃 as simple as before"
      ],
      "metadata": {
        "id": "WK-BbmbetShQ"
      }
    },
    {
      "cell_type": "code",
      "source": [
        "place = \"disneyland\"\n",
        "\n",
        "#Lary says...\n",
        "print(\"Do you want to take your cat to the\", place, \"?\") \n",
        "\n",
        "#then the user gives input\n",
        "answer = input()\n",
        "\n",
        "#then Lary replies\n",
        "print(\"Yeah right, your cat will enjoy more than you. :)\")"
      ],
      "metadata": {
        "id": "JGNgl7SIrkgE"
      },
      "execution_count": null,
      "outputs": []
    },
    {
      "cell_type": "markdown",
      "source": [
        "Yay, we just made a robot Lary 🐟\n",
        "\n",
        "---\n",
        "\n"
      ],
      "metadata": {
        "id": "SnyL1IiAunfk"
      }
    },
    {
      "cell_type": "markdown",
      "source": [
        "⚡ **Prompt message and input in the same line**\n",
        "\n",
        "🙃 as simple as before"
      ],
      "metadata": {
        "id": "AwZh2UlYvbHk"
      }
    },
    {
      "cell_type": "code",
      "source": [
        "place = \"moon\"  \n",
        "\n",
        "#Lary says and asks the user for answer\n",
        "answer = input(\"Do you want to take your cat to the \" +  place + \"?\")\n",
        "\n",
        "#then Lary replies\n",
        "print(\"Yeah right, your cat is actually smarter than you. :D\")"
      ],
      "metadata": {
        "id": "dWOju9KkvnFa"
      },
      "execution_count": null,
      "outputs": []
    },
    {
      "cell_type": "markdown",
      "source": [
        "✅ You have to ***use a `+` to join the strings together*** while asking the question\n",
        "\n",
        "\n",
        "---\n",
        "\n"
      ],
      "metadata": {
        "id": "-WDnhGgEwR_b"
      }
    },
    {
      "cell_type": "markdown",
      "source": [
        "# 🤔 Hmm... a `+` sign...\n",
        "\n",
        "\n",
        "> 👀 Can we use it to **join any strings**? 😃 Yes we can"
      ],
      "metadata": {
        "id": "8EblV0WOwv0C"
      }
    },
    {
      "cell_type": "code",
      "source": [
        "first = \"Is this \"\n",
        "second = \"awesome\"\n",
        "third = \"or not?\"\n",
        "complete = first + second + third    #join all string strings\n",
        "print(complete)                      #then use them"
      ],
      "metadata": {
        "id": "-axn-Pqrxeyl"
      },
      "execution_count": null,
      "outputs": []
    },
    {
      "cell_type": "markdown",
      "source": [
        "> 👀 Can we **join strings inside `print()`**? 😃 Yes we can"
      ],
      "metadata": {
        "id": "owqfckI7yeab"
      }
    },
    {
      "cell_type": "code",
      "source": [
        "first = \"Is this cool\"\n",
        "second = \"or\"\n",
        "third = \"is it awesome?\"\n",
        "print(first + second + third)"
      ],
      "metadata": {
        "id": "hfCCJZtZymHR"
      },
      "execution_count": null,
      "outputs": []
    },
    {
      "cell_type": "markdown",
      "source": [
        "✅ We **can use** `+` to **join strings**. \n",
        "\n",
        "⚡ We **cannot use** `+` to **join strings with numbers**"
      ],
      "metadata": {
        "id": "uAj-TSEXzWCc"
      }
    },
    {
      "cell_type": "markdown",
      "source": [
        "👀 Don't join strings with numbers directly by using `+` or Lary 🐟 may go crazy 😵\n",
        "\n",
        "---\n",
        "\n",
        "\n",
        "\n",
        "🙃 We will see that later how to save Lary 🐟 from going crazy and join strings with numbers. \n",
        "\n",
        "Because with code, we can do anything. Happy Coding 😎"
      ],
      "metadata": {
        "id": "PViSNNNS0Pj3"
      }
    }
  ]
}