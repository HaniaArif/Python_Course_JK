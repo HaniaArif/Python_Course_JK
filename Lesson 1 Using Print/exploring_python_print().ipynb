{
  "nbformat": 4,
  "nbformat_minor": 0,
  "metadata": {
    "colab": {
      "name": "exploring python print().ipynb",
      "provenance": [],
      "collapsed_sections": [],
      "authorship_tag": "ABX9TyP3OucCyeaSCzoXxyF747dK",
      "include_colab_link": true
    },
    "kernelspec": {
      "name": "python3",
      "display_name": "Python 3"
    },
    "language_info": {
      "name": "python"
    }
  },
  "cells": [
    {
      "cell_type": "markdown",
      "metadata": {
        "id": "view-in-github",
        "colab_type": "text"
      },
      "source": [
        "<a href=\"https://colab.research.google.com/github/HaniaArif/Python/blob/main/Lesson%201%20Using%20Print/%20exploring_python_print().ipynb\" target=\"_parent\"><img src=\"https://colab.research.google.com/assets/colab-badge.svg\" alt=\"Open In Colab\"/></a>"
      ]
    },
    {
      "cell_type": "markdown",
      "source": [
        "# Exploring Python print()\n",
        "Click on the code of first block, run it by using the small play button (▶) on its left side.\n",
        "Just like that run all the blocks one by one by using the small play button and check out what happens 😎\n",
        "\n",
        "👀 *The results will show right under the block you run*"
      ],
      "metadata": {
        "id": "BDvdgdyNLjt2"
      }
    },
    {
      "cell_type": "markdown",
      "source": [
        "⚡ Show a message by **using variable**"
      ],
      "metadata": {
        "id": "-XE6A1SlL4w3"
      }
    },
    {
      "cell_type": "code",
      "execution_count": null,
      "metadata": {
        "id": "xpuiFe8nLi3m"
      },
      "outputs": [],
      "source": [
        "message = \"This is crazy!!!\"\n",
        "print(message)"
      ]
    },
    {
      "cell_type": "markdown",
      "source": [
        "⚡ Show a message **without using variable**"
      ],
      "metadata": {
        "id": "Naa-pHbPL9cW"
      }
    },
    {
      "cell_type": "code",
      "source": [
        "print(\"This is even more crazy!!!\")"
      ],
      "metadata": {
        "id": "uvQjVLfyMA5N"
      },
      "execution_count": null,
      "outputs": []
    },
    {
      "cell_type": "markdown",
      "source": [
        "\n",
        "\n",
        "---\n",
        "\n",
        "\n",
        "⭐*We had created this grocery list before and print it out:*\n"
      ],
      "metadata": {
        "id": "iyyacYLsMVd4"
      }
    },
    {
      "cell_type": "code",
      "source": [
        "grocery = [\"apples\", \"bananas\", \"pineapples\"]\n",
        "print(grocery)"
      ],
      "metadata": {
        "id": "2zGshhz9MUkV"
      },
      "execution_count": null,
      "outputs": []
    },
    {
      "cell_type": "markdown",
      "source": [
        "# 🤔\n",
        " But... If I am a user and I just see `['apples', 'bananas', 'pineapples']` just like that I might be confused that: \n",
        "\n",
        "\n",
        "> if these are just the names of the fruits in a fruit shop  ***OR*** these are the things in my grocery list ***OR*** these are the things that I don't need to by from the grocery store\n",
        "\n",
        "🤪 We need to do something about it\n",
        "\n",
        "⚡ How about **showing some more details** with the grocery list"
      ],
      "metadata": {
        "id": "KeIdgJDJNd5L"
      }
    },
    {
      "cell_type": "code",
      "source": [
        "print(\"My Grocery List:\")\n",
        "print(grocery)"
      ],
      "metadata": {
        "id": "q9MQZBJUQd0h"
      },
      "execution_count": null,
      "outputs": []
    },
    {
      "cell_type": "markdown",
      "source": [
        "⚡ How about showing **all things in one line**"
      ],
      "metadata": {
        "id": "IIi801seQwxR"
      }
    },
    {
      "cell_type": "code",
      "source": [
        "print(\"My Grocery List:\" , grocery)"
      ],
      "metadata": {
        "id": "2HQ4PUN3RDUy"
      },
      "execution_count": null,
      "outputs": []
    },
    {
      "cell_type": "markdown",
      "source": [
        "✅ You can show two or more things at the **same time** and in the **same line** by using only one `print()` statement and using a `,` in between the things"
      ],
      "metadata": {
        "id": "j4sjffxqRKTK"
      }
    },
    {
      "cell_type": "markdown",
      "source": [
        "---\n",
        "\n",
        "Let's try one more 🙃"
      ],
      "metadata": {
        "id": "qjivN_qERl5y"
      }
    },
    {
      "cell_type": "code",
      "source": [
        "chairs = 4\n",
        "print(\"I had\", chairs, \"in my lawn\")\n",
        "chairs = chairs - 1\n",
        "print(\"Then my dog ate one :') and I had only\", chairs, \"chairs left\")\n",
        "chairs = chairs + 3\n",
        "print(\"Finally I got three more. Now I have\", chairs)"
      ],
      "metadata": {
        "id": "CeRpjRZKScuQ",
        "outputId": "3c1d9e0e-0f0d-407e-b063-9eb3835f03da",
        "colab": {
          "base_uri": "https://localhost:8080/"
        }
      },
      "execution_count": null,
      "outputs": [
        {
          "output_type": "stream",
          "name": "stdout",
          "text": [
            "I had 4 in my lawn\n",
            "Then my dog ate one :') and I had only 3 chairs left\n",
            "Finally I got three more. Now I have 6\n"
          ]
        }
      ]
    },
    {
      "cell_type": "markdown",
      "source": [
        "That's all for now. Happy coding 🙂\n",
        "\n"
      ],
      "metadata": {
        "id": "xdmE0tvvUw0h"
      }
    }
  ]
}