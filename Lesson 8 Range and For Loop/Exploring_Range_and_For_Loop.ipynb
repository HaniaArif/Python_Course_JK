{
  "nbformat": 4,
  "nbformat_minor": 0,
  "metadata": {
    "colab": {
      "name": "Exploring Range and For Loop.ipynb",
      "provenance": [],
      "collapsed_sections": [],
      "authorship_tag": "ABX9TyM1i8ggU0zyhxd2Y3Q55AZw",
      "include_colab_link": true
    },
    "kernelspec": {
      "name": "python3",
      "display_name": "Python 3"
    },
    "language_info": {
      "name": "python"
    }
  },
  "cells": [
    {
      "cell_type": "markdown",
      "metadata": {
        "id": "view-in-github",
        "colab_type": "text"
      },
      "source": [
        "<a href=\"https://colab.research.google.com/github/HaniaArif/Python/blob/main/Lesson%208%20Range%20and%20For%20Loop%20/%20Exploring_Range_and_For_Loop.ipynb\" target=\"_parent\"><img src=\"https://colab.research.google.com/assets/colab-badge.svg\" alt=\"Open In Colab\"/></a>"
      ]
    },
    {
      "cell_type": "markdown",
      "source": [
        "#range and for loop\n",
        "Mostly we use range() in a for loop. \n",
        "\n",
        "> range() tells you from where to start the loop and where to stop.\n",
        "\n",
        "**3 ways to write a range:**\n",
        "\n",
        "1. range(ending point) \n",
        "\n",
        "> it automatically starts from **0** and ends just before the **ending point**\n"
      ],
      "metadata": {
        "id": "_Nr_dREm4tIi"
      }
    },
    {
      "cell_type": "code",
      "execution_count": null,
      "metadata": {
        "id": "_hhajpZ1vgAx"
      },
      "outputs": [],
      "source": [
        "for count in range(5):\n",
        "  print(\"count is: \", count)"
      ]
    },
    {
      "cell_type": "markdown",
      "source": [
        "2. range(starting point, ending point) \n",
        "\n",
        "> it starts from the **starting point** and ends just before the **ending point**"
      ],
      "metadata": {
        "id": "oBXwVzRk7Ctd"
      }
    },
    {
      "cell_type": "code",
      "source": [
        "for count in range(1, 5):\n",
        "  print(\"count is: \", count)"
      ],
      "metadata": {
        "id": "zhAEdMhO7KQ0"
      },
      "execution_count": null,
      "outputs": []
    },
    {
      "cell_type": "markdown",
      "source": [
        "3. range(starting point, ending point, jump) \n",
        "\n",
        "> it starts from the **starting point** and ends just before the **ending point** and instead of adding 1 every time, it **jumps** by the number like a bunny 🐰\n"
      ],
      "metadata": {
        "id": "BAZmNiTA7E6V"
      }
    },
    {
      "cell_type": "code",
      "source": [
        "for count in range(1, 10, 2):   #from 1 to 10 it keeps on adding 2 in the count\n",
        "  print(\"count is: \", count)    "
      ],
      "metadata": {
        "id": "xOxaj45h7MUT"
      },
      "execution_count": null,
      "outputs": []
    },
    {
      "cell_type": "code",
      "source": [
        "for count in range(0, 10, 2):   #from 0 to 10 it keeps on adding 2 in the count\n",
        "  print(\"count is: \", count)"
      ],
      "metadata": {
        "id": "onJ7DV1A7Xth"
      },
      "execution_count": null,
      "outputs": []
    },
    {
      "cell_type": "markdown",
      "source": [
        "Wait... \n",
        "🤔\n",
        "why did we miss the number 9 when we started from 0 to 10 and jumped by 2?\n",
        "\n",
        "\n",
        "\n",
        "Let's see what's going on in **range(0, 10, 2)**:\n",
        "\n",
        "```\n",
        "Start                                End\n",
        "  0   1   2   3   4   5   6   7   8   9   10\n",
        "  ^       ^       ^       ^       ^        ^\n",
        "```\n",
        "at first count = 0\n",
        "\n",
        "then count + 2 = 2\n",
        "\n",
        "then count + 2 = 4\n",
        "\n",
        "then count + 2 = 6\n",
        "\n",
        "then count + 2 = 8\n",
        "\n",
        "then count + 2 = 10\n",
        "\n",
        "⚡ The for loop only works if the count is in the range from 0 to 9. When the count was 8, it was in between 0 - 9 so it printed 8. After that, count became 10 and now it was not between 0 - 9, so it came out of the loop and ended."
      ],
      "metadata": {
        "id": "KvzhTFIY7pNh"
      }
    },
    {
      "cell_type": "markdown",
      "source": [
        "\n",
        "\n",
        "---\n",
        "Now let's make a calculator 🔢 that can find the sum of all numbers in a range.\n",
        "\n",
        "like sum of all numbers from 1 to 4 is 1+2+3+4 = 10"
      ],
      "metadata": {
        "id": "R-7NBkAG9pkK"
      }
    },
    {
      "cell_type": "code",
      "source": [
        "ending_number = int(input(\"Upto which number do you want to find the sum?\"))\n",
        "ending_number = ending_number + 1     #because we want to include the last number as well\n",
        "\n",
        "sum = 0       #initially the sum would be zero\n",
        "\n",
        "for number in range(1, ending_number):\n",
        "  sum = sum + number    #keep on adding \n",
        "  \n",
        "print(\"Sum of number is: \", sum)"
      ],
      "metadata": {
        "id": "i4clYWmb-Rx2"
      },
      "execution_count": null,
      "outputs": []
    },
    {
      "cell_type": "markdown",
      "source": [
        "##🤔\n",
        "but... what if your answer is wrong and you don't know what's going on inside the loop?\n",
        "⚡ use print() inside the loop to check.\n",
        "\n",
        "👀 Let's try again with print()"
      ],
      "metadata": {
        "id": "gOajAVfN_763"
      }
    },
    {
      "cell_type": "code",
      "source": [
        "ending_number = int(input(\"Upto which number do you want to find the sum?\"))\n",
        "ending_number = ending_number + 1     #because we want to include the last number as well\n",
        "\n",
        "sum = 0       #initially the sum would be zero\n",
        "\n",
        "for number in range(1, ending_number):\n",
        "  sum = sum + number    #keep on adding \n",
        "  print(\"number\", number, \"has been added to the sum\")\n",
        "  \n",
        "print(\"Sum of number is: \", sum)"
      ],
      "metadata": {
        "id": "1enQ_ZyZAJkH"
      },
      "execution_count": null,
      "outputs": []
    },
    {
      "cell_type": "markdown",
      "source": [
        "##🤔\n",
        "but... what if you enter number as 1000, so there would be too much outputs which can even make you a bit confused that what to look at and where to look at! 😵 \n",
        "\n",
        "⚡ we can use the **strings** and other stuff that we had learnt before and\n",
        "we can add short outputs in a string and print at the end to make it simple...\n",
        "\n",
        "👀 Let's make it simple and awesome..."
      ],
      "metadata": {
        "id": "5FkM4wcTAWyK"
      }
    },
    {
      "cell_type": "code",
      "source": [
        "ending_number = int(input(\"Upto which number do you want to find the sum?\"))\n",
        "ending_number = ending_number + 1     #because we want to include the last number as well\n",
        "\n",
        "sum = 0       #initially the sum would be zero\n",
        "added = \"\"    #we are just taking an empty string so that\n",
        "\n",
        "for number in range(1, ending_number):\n",
        "  sum = sum + number    #keep on adding \n",
        "\n",
        "  #-----CHECK THIS OUT-----\n",
        "  added = added + \"+\" + str(number)\n",
        "  #------------------------\n",
        "\n",
        "print(added, \"=\", sum)"
      ],
      "metadata": {
        "id": "iXazKQ4kA2-1"
      },
      "execution_count": null,
      "outputs": []
    },
    {
      "cell_type": "markdown",
      "source": [
        "👀 but... there is a \"+\" appearing at the start of the numbers... \n",
        "\n",
        "\n",
        "\n",
        "```\n",
        "It's becuase initially:\n",
        "added = \"\"\n",
        "when you go inside the loop and number = 1\n",
        "then, added = \"\" + \"+\" + \"1\"\n",
        "so added became = \"+1\"\n",
        "and when the loop worked for the second time and third time and so on \n",
        "it kept on adding the \"+ number\" with the old string.\n",
        "```\n",
        "⚡ we can use if-else to fix this 🙃\n"
      ],
      "metadata": {
        "id": "ZJKCN09IB6lu"
      }
    },
    {
      "cell_type": "code",
      "source": [
        "ending_number = int(input(\"Upto which number do you want to find the sum?\"))\n",
        "ending_number = ending_number + 1     #because we want to include the last number as well\n",
        "\n",
        "sum = 0       #initially the sum would be zero\n",
        "added = \"\"    #we are just taking an empty string so that\n",
        "\n",
        "for number in range(1, ending_number):\n",
        "  sum = sum + number    #keep on adding \n",
        "\n",
        "  #-----CHECK THIS OUT-----\n",
        "  if(number == 1):\n",
        "    added = str(number)\n",
        "  else:\n",
        "    added = added + \"+\" + str(number)\n",
        "  #------------------------\n",
        "\n",
        "print(added, \"=\", sum)"
      ],
      "metadata": {
        "id": "f8KUStM1CuKs"
      },
      "execution_count": null,
      "outputs": []
    },
    {
      "cell_type": "markdown",
      "source": [
        "phew... that was awesome!!! 🙃\n",
        "\n",
        "Now you know how you can use all the things together that you have learnt in one code... 😎"
      ],
      "metadata": {
        "id": "pqQApbjTDpYn"
      }
    }
  ]
}