{
  "nbformat": 4,
  "nbformat_minor": 0,
  "metadata": {
    "colab": {
      "name": "python arithmetic operators.ipynb",
      "provenance": [],
      "collapsed_sections": [],
      "authorship_tag": "ABX9TyMcRZHMTECiAwmgdOAvP9qp",
      "include_colab_link": true
    },
    "kernelspec": {
      "name": "python3",
      "display_name": "Python 3"
    },
    "language_info": {
      "name": "python"
    }
  },
  "cells": [
    {
      "cell_type": "markdown",
      "metadata": {
        "id": "view-in-github",
        "colab_type": "text"
      },
      "source": [
        "<a href=\"https://colab.research.google.com/github/HaniaArif/Python/blob/main/Lesson%203%20Arithmetic%20Operators%20/%20python_arithmetic_operators.ipynb\" target=\"_parent\"><img src=\"https://colab.research.google.com/assets/colab-badge.svg\" alt=\"Open In Colab\"/></a>"
      ]
    },
    {
      "cell_type": "markdown",
      "source": [
        "This is **Lary** 🐟 again. Now Lary knows how to take `input()` and `print()` it out as you had made him smart enough last time. 😎 \n",
        "\n",
        "Now let's help him out so that he can start calculating things and become even smarter 🙃 "
      ],
      "metadata": {
        "id": "Y09EfJT8Pf62"
      }
    },
    {
      "cell_type": "markdown",
      "source": [
        "###Arithmetic operators\n",
        "These are the basic operators (just like in Mathematics ⛄).\n",
        "1. `**` raise to the power of\n",
        "2. `% ` modulo (means remainder after division)\n",
        "3. `//` floor division\n",
        "4. `/ ` division\n",
        "5. `* ` multiply\n",
        "6. `- ` subtract\n",
        "7. `+ ` add"
      ],
      "metadata": {
        "id": "5o7K74tfSEPv"
      }
    },
    {
      "cell_type": "markdown",
      "source": [
        "# ** (Raise to the power of)\n",
        "⚡ It's the same as ^ symbol. Just like we do 2^3 = 2 x 2 x 2 = 8. Over here we use ** sybmol instead of ^. \n",
        "\n",
        "🤔 But why not symbol ^ ? \n",
        "\n",
        "Because in python ^ is used for some other operation that we will learn later... 🤪"
      ],
      "metadata": {
        "id": "TnsO4h1xWaq6"
      }
    },
    {
      "cell_type": "markdown",
      "source": [
        "Now, Let's help Lary 🐟 calculate the powers of 2."
      ],
      "metadata": {
        "id": "nSNNlBpQXs3s"
      }
    },
    {
      "cell_type": "code",
      "source": [
        "number = 2\n",
        "power = 5\n",
        "print(number ** power)"
      ],
      "metadata": {
        "id": "WbdjbahLWYvt"
      },
      "execution_count": null,
      "outputs": []
    },
    {
      "cell_type": "markdown",
      "source": [
        "😃 Now using ** Lary 🐟 can calculate the powers of other numbers too. You just need to change the number and the power.\n",
        "\n",
        "\n",
        "---\n",
        "\n"
      ],
      "metadata": {
        "id": "9CUGjhCDYbRM"
      }
    },
    {
      "cell_type": "markdown",
      "source": [
        "# % (Modulo)\n",
        "👀 In python this is not a symbol of percentage.\n",
        "This is a sybmol to find the remainder after division of two numbers. \n",
        "Like: if you do: 5/2, 2x2 = 4 and 1 will be left at the end as a remainder.\n",
        "\n",
        "         2\n",
        "      _______\n",
        "    2 |  5\n",
        "         2\n",
        "      _______\n",
        "         1 ➡ Remainder\n",
        "\n",
        "⚡ % helps us to find the remainder. Simple is that...\n",
        "\n"
      ],
      "metadata": {
        "id": "2lY4Ouc0YwHu"
      }
    },
    {
      "cell_type": "markdown",
      "source": [
        "Now Let's learn to make Lary even smarter 😎"
      ],
      "metadata": {
        "id": "2VuWi3DgZ4sv"
      }
    },
    {
      "cell_type": "code",
      "source": [
        "divisor = 5\n",
        "dividend = 26\n",
        "remainder = dividend % divisor\n",
        "print(remainder)"
      ],
      "metadata": {
        "id": "7eT66jW1aAnF"
      },
      "execution_count": null,
      "outputs": []
    },
    {
      "cell_type": "markdown",
      "source": [
        "Let's try one more... 🙃"
      ],
      "metadata": {
        "id": "DhwykZGHak2s"
      }
    },
    {
      "cell_type": "code",
      "source": [
        "print(\"remainder of 10/5 is = \", 10%5)\n",
        "print(\"remainder of 10/2 is = \", 10%2)"
      ],
      "metadata": {
        "id": "mQ--Pe_xaj8k"
      },
      "execution_count": null,
      "outputs": []
    },
    {
      "cell_type": "markdown",
      "source": [
        "\n",
        "\n",
        "---\n",
        "# 🤔\n",
        "> // is floor division but what is **floor**? \n",
        "\n",
        "\n",
        "Suppose you are in a room, a room has a floor and a ceiling... And in between there is space... Same is the case with numbers 🤠\n",
        "\n",
        "Let's suppose a number 1.6. It is somewhere in between 1 and 2.\n",
        "\n",
        "           2 ➡ ceiling\n",
        "      __________\n",
        "          1.6\n",
        "      __________\n",
        "           1 ➡ floor\n",
        "\n",
        "Let's take one more example:\n",
        "       \n",
        "           9 ➡ ceiling\n",
        "      __________\n",
        "          8.2\n",
        "      __________\n",
        "           8 ➡ floor\n",
        "\n",
        "✅ for a decimal number, the integer right below it is the floor and the integer just above it is the ceiling, just like a room.\n",
        "\n",
        "\n",
        "---\n",
        "\n"
      ],
      "metadata": {
        "id": "bdDSUjH2a7QU"
      }
    },
    {
      "cell_type": "markdown",
      "source": [
        "#// (floor division)\n",
        "It divides two things just like normal. But if the answer is a decimal number it rounds it off to the floor of that number.\n",
        "\n",
        "Now Let's help Lary 🐟 understand that too... "
      ],
      "metadata": {
        "id": "nq-tOkXocvs8"
      }
    },
    {
      "cell_type": "code",
      "source": [
        "print(5//2)   #5/2 = 2.5 \n",
        "#   3   > ceiling\n",
        "#  2.5 \n",
        "#   2   > floor\n",
        "\n",
        "#the answer (2.5) was a decimal number, so // converted the answer to the floor value"
      ],
      "metadata": {
        "id": "wju3B8h7dS1l"
      },
      "execution_count": null,
      "outputs": []
    },
    {
      "cell_type": "markdown",
      "source": [
        "Let's help Lary do one more practice 🤪"
      ],
      "metadata": {
        "id": "1-nytiX2d8uj"
      }
    },
    {
      "cell_type": "code",
      "source": [
        "divisor = 5\n",
        "dividend = 26\n",
        "print(dividend // divisor) #you get the floor value after division"
      ],
      "metadata": {
        "id": "xWrkRrr6d8MO"
      },
      "execution_count": null,
      "outputs": []
    },
    {
      "cell_type": "markdown",
      "source": [
        "👀 You can help Lary do more practice by simply changing the values of divisor and dividend \n",
        "\n",
        "\n",
        "---\n",
        "\n"
      ],
      "metadata": {
        "id": "iRCd8jCIeQK1"
      }
    },
    {
      "cell_type": "markdown",
      "source": [
        "# / (divsion)\n",
        "Amazing!! This is a simple division like usual 🥳\n"
      ],
      "metadata": {
        "id": "BzSxXqriec-A"
      }
    },
    {
      "cell_type": "code",
      "source": [
        "divisor = 5\n",
        "dividend = 26\n",
        "print(dividend / divisor) #you get the exact answer after division"
      ],
      "metadata": {
        "id": "rW1UtPNDephw"
      },
      "execution_count": null,
      "outputs": []
    },
    {
      "cell_type": "markdown",
      "source": [
        "Oh yeah... finally Lary 🐟 is getting smarter and smarter 😎\n",
        "\n",
        "\n",
        "---\n",
        "\n"
      ],
      "metadata": {
        "id": "l2b_yzLVey9w"
      }
    },
    {
      "cell_type": "markdown",
      "source": [
        "# * (multiply)\n",
        "Yes, you gussed it right... This is also the same as simple multiply... 🚀"
      ],
      "metadata": {
        "id": "As7WhFOvfGUP"
      }
    },
    {
      "cell_type": "code",
      "source": [
        "length = 10\n",
        "width = 5\n",
        "area = length * width\n",
        "print(\"area of rectangle = \", area)"
      ],
      "metadata": {
        "id": "ek23xSLvfSgT"
      },
      "execution_count": null,
      "outputs": []
    },
    {
      "cell_type": "markdown",
      "source": [
        "\n",
        "\n",
        "---\n",
        "\n",
        "\n",
        "# - (subtract)\n",
        "Yes... you got it again... It's the same... 🙃"
      ],
      "metadata": {
        "id": "dp0jHwGjf_wa"
      }
    },
    {
      "cell_type": "code",
      "source": [
        "candies = 100\n",
        "ate_candies = 40\n",
        "left_candies = candies - ate_candies\n",
        "print(left_candies)"
      ],
      "metadata": {
        "id": "ELv8iN9NgQX7"
      },
      "execution_count": null,
      "outputs": []
    },
    {
      "cell_type": "markdown",
      "source": [
        "\n",
        "\n",
        "---\n",
        "\n",
        "# + (add)\n",
        "and finally... just add it all up like a pro... 😎"
      ],
      "metadata": {
        "id": "LiOADlosgjJe"
      }
    },
    {
      "cell_type": "code",
      "source": [
        "dorritos = 45\n",
        "pringles = 5\n",
        "total_snacks = dorritos + pringles\n",
        "print(total_snacks)"
      ],
      "metadata": {
        "id": "wC7bzNHngtB0"
      },
      "execution_count": null,
      "outputs": []
    },
    {
      "cell_type": "markdown",
      "source": [
        "\n",
        "\n",
        "---\n",
        "Operators in python are super simple... just like we do simple math... \n",
        "⚡ python calculates things according to same priority sequence in which we learnt things today.\n",
        "\n",
        "      Calcualte this 1st:   **\n",
        "      Calcualte this 2nd:   %\n",
        "      Calcualte this 3rd:   //\n",
        "      Calcualte this 4th:   /\n",
        "      Calcualte this 5th:    *\n",
        "      Calcualte this 6th:   -\n",
        "      Calcualte this 7th:   + \n",
        "\n",
        "If you want python to calcualte in the order that you want... be smart as Lary 🐟 and use brackets `()` 😎"
      ],
      "metadata": {
        "id": "s6gfaGxahNjO"
      }
    },
    {
      "cell_type": "markdown",
      "source": [
        "\n",
        "\n",
        "---\n",
        "\n",
        "\n",
        "Let's ask Lary 🐟 the answer of (5 - 1) * ((7 + 3) / (3 - 1)) "
      ],
      "metadata": {
        "id": "3j8gOv4xiso9"
      }
    },
    {
      "cell_type": "markdown",
      "source": [
        "👀 Let's try **without brackets** first:"
      ],
      "metadata": {
        "id": "M1bWc_UwjFWb"
      }
    },
    {
      "cell_type": "code",
      "source": [
        "print(5-1*7+3/3-1)"
      ],
      "metadata": {
        "colab": {
          "base_uri": "https://localhost:8080/"
        },
        "id": "qS-Z5aOhjDjk",
        "outputId": "4c0899ac-b8bd-4545-ee63-c6afcba17be9"
      },
      "execution_count": null,
      "outputs": [
        {
          "output_type": "stream",
          "name": "stdout",
          "text": [
            "-2.0\n"
          ]
        }
      ]
    },
    {
      "cell_type": "markdown",
      "source": [
        "Wait... Did Lary go crazy... 🤔 \n",
        "\n",
        "Nope... he is just following the sequence... **, %, //, /, *, - , +\n",
        "So what he did here...\n",
        "\n",
        "      5 - 1 * 7 + ( 3 / 3 ) - 1        {because it saw the / sign first}\n",
        "      5 - 1 * 7 + (1) - 1              {then it saw the * sign - according to the sequence}\n",
        "      5 - (1 * 7) + 1 - 1\n",
        "      5 - 7 + 1 - 1                    {then it saw - sign}\n",
        "      (5 - 7) + (1 - 1)\n",
        "      (-2) + (0)                       {finally... it saw the + sign}\n",
        "      -2                               that's why... 🤯\n",
        "\n",
        "✅ if you don't want Lary 🐟 to use it's own brackets... You should tell him where to put the brackets. 🙃\n",
        "      "
      ],
      "metadata": {
        "id": "nOyBkVKsjVLc"
      }
    },
    {
      "cell_type": "markdown",
      "source": [
        "👀 Let's try it out now **with brackets**:"
      ],
      "metadata": {
        "id": "b449Rukalcit"
      }
    },
    {
      "cell_type": "code",
      "source": [
        "print((5 - 1) * ((7 + 3) / (3 - 1)))"
      ],
      "metadata": {
        "colab": {
          "base_uri": "https://localhost:8080/"
        },
        "id": "ZRlruYk2lkrx",
        "outputId": "0f61f306-6042-4f04-c440-eb74cc74f1a1"
      },
      "execution_count": null,
      "outputs": [
        {
          "output_type": "stream",
          "name": "stdout",
          "text": [
            "20.0\n"
          ]
        }
      ]
    },
    {
      "cell_type": "markdown",
      "source": [
        "Finally Lary 🐟 works fine... That's all for now... you can try different things with Lary and have fun 😃 like try:\n",
        "\n",
        "1. calculating the perimeter of a rectangle (Perimeter = 2*(length + width)) \n",
        "2. calcualting the volume of a sphere (Volume = (4/3)pi * (r^3)) \n",
        "\n",
        "   [You can use pi = 3.14]"
      ],
      "metadata": {
        "id": "wH0lcfO9lpYf"
      }
    }
  ]
}