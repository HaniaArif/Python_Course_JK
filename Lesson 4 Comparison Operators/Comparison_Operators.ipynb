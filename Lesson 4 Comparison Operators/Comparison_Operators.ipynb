{
  "nbformat": 4,
  "nbformat_minor": 0,
  "metadata": {
    "colab": {
      "name": "Comparison Operators.ipynb",
      "provenance": [],
      "collapsed_sections": [],
      "authorship_tag": "ABX9TyOVIZJPy2HF0XbSlYp3ErBi",
      "include_colab_link": true
    },
    "kernelspec": {
      "name": "python3",
      "display_name": "Python 3"
    },
    "language_info": {
      "name": "python"
    }
  },
  "cells": [
    {
      "cell_type": "markdown",
      "metadata": {
        "id": "view-in-github",
        "colab_type": "text"
      },
      "source": [
        "<a href=\"https://colab.research.google.com/github/HaniaArif/Python/blob/main/Lesson%204%20Comparison%20Operators%20/%20Comparison_Operators.ipynb\" target=\"_parent\"><img src=\"https://colab.research.google.com/assets/colab-badge.svg\" alt=\"Open In Colab\"/></a>"
      ]
    },
    {
      "cell_type": "markdown",
      "source": [
        "#Today's Goal:\n",
        "Comparing Boneless Wings With Chicken Nuggets 🤪\n",
        "\n",
        "##Comparison Operators:\n",
        "For comparison of things we can use **comparison operators**: \n",
        "\n",
        "1. `<` (less than)\n",
        "2. `>` (greater than)\n",
        "3. `==` (equal to)\n",
        "4. `!=` (not equal to)\n",
        "5. `<=` (less than or equal to)\n",
        "6. `>=` (greater than or equal to)"
      ],
      "metadata": {
        "id": "CH3DAElF6Up_"
      }
    },
    {
      "cell_type": "markdown",
      "source": [
        "##`<` (less than)"
      ],
      "metadata": {
        "id": "KNnkFSGO8XW1"
      }
    },
    {
      "cell_type": "code",
      "execution_count": null,
      "metadata": {
        "id": "rbZbpCsf6QB5"
      },
      "outputs": [],
      "source": [
        "apples = 5\n",
        "bananas = 2\n",
        "oranges = 2\n",
        "print(\"Are apples less than bananas:  \", apples < bananas)\n",
        "print(\"Are bananas less than apples:  \", bananas < apples)\n",
        "print(\"Are oranges less than bananas: \", oranges < bananas)"
      ]
    },
    {
      "cell_type": "markdown",
      "source": [
        "##`>` (greater than)"
      ],
      "metadata": {
        "id": "RPdDReha9aKd"
      }
    },
    {
      "cell_type": "code",
      "source": [
        "print(\"Are apples greater than bananas:  \", apples > bananas)\n",
        "print(\"Are bananas greater than apples:  \", bananas > apples)\n",
        "print(\"Are oranges greater than bananas: \", oranges > bananas)"
      ],
      "metadata": {
        "id": "5JfgMcIp9lY9"
      },
      "execution_count": null,
      "outputs": []
    },
    {
      "cell_type": "markdown",
      "source": [
        "##`==` (equal to)"
      ],
      "metadata": {
        "id": "scVBiREY9mHp"
      }
    },
    {
      "cell_type": "code",
      "source": [
        "print(\"Are apples equal to bananas:  \", apples == bananas)\n",
        "print(\"Are bananas equal to apples:  \", bananas == apples)\n",
        "print(\"Are oranges equal to bananas: \", oranges == bananas)"
      ],
      "metadata": {
        "id": "yk-Jr1Rd9xpm"
      },
      "execution_count": null,
      "outputs": []
    },
    {
      "cell_type": "markdown",
      "source": [
        "##`!=` (not equal to)\n",
        "👀 Exclamation mark (!) is used for the word \"not\""
      ],
      "metadata": {
        "id": "j0XEDqgB-Cs3"
      }
    },
    {
      "cell_type": "code",
      "source": [
        "print(\"Are apples not equal to bananas:  \", apples != bananas)\n",
        "print(\"Are bananas not equal to apples:  \", bananas != apples)\n",
        "print(\"Are oranges not equal to bananas: \", oranges != bananas)"
      ],
      "metadata": {
        "id": "gqUEKSAe-GeX"
      },
      "execution_count": null,
      "outputs": []
    },
    {
      "cell_type": "markdown",
      "source": [
        "##`<=` (less than or equal to)\n",
        "👀 `<=` checks both conditions at the same time. If the thing is **less than** or if it is **equal to** the other thing.\n",
        "\n",
        "Now let's actually compare the boneless wings with chicken nuggets 😎"
      ],
      "metadata": {
        "id": "a6AieM4A-ebw"
      }
    },
    {
      "cell_type": "code",
      "source": [
        "boneless_wings = 100\n",
        "chicken_nuggets = 12\n",
        "print(\"Are boneless wings less than or equal to chicken nuggets:  \", boneless_wings <= chicken_nuggets)\n",
        "print(\"Are chicken nuggets less than or equal to boneless wings:  \", chicken_nuggets <= boneless_wings)"
      ],
      "metadata": {
        "id": "C3lrXWFd-5pO"
      },
      "execution_count": null,
      "outputs": []
    },
    {
      "cell_type": "markdown",
      "source": [
        "so... a dog just ate a few of your boneless wings. just a few like 88 of them 🙃"
      ],
      "metadata": {
        "id": "Z-BycIj7_06p"
      }
    },
    {
      "cell_type": "code",
      "source": [
        "boneless_wings = 12 #because the dog ate the rest of them\n",
        "print(\"Are boneless wings less than or equal to chicken nuggets now:  \", boneless_wings <= chicken_nuggets)"
      ],
      "metadata": {
        "id": "EeHL-qgU_0WB"
      },
      "execution_count": null,
      "outputs": []
    },
    {
      "cell_type": "markdown",
      "source": [
        "##`>=` (greater than or equal to)\n",
        "👀 `>=` checks both conditions at the same time. If the thing is **greater than** or if it is **equal to** the other thing.\n",
        "\n",
        "Now let's actually compare the boneless wings with chicken nuggets again becuase you bought a few again 🤪"
      ],
      "metadata": {
        "id": "1lzWTrkXAw0a"
      }
    },
    {
      "cell_type": "code",
      "source": [
        "boneless_wings = 6\n",
        "chicken_nuggets = 24\n",
        "print(\"Are boneless wings greater than or equal to chicken nuggets:  \", boneless_wings >= chicken_nuggets)\n",
        "print(\"Are chicken nuggets greater than or equal to boneless wings:  \", chicken_nuggets >= boneless_wings)"
      ],
      "metadata": {
        "id": "B42nIum1A9be"
      },
      "execution_count": null,
      "outputs": []
    },
    {
      "cell_type": "markdown",
      "source": [
        "but... this time... the dog ate 18 chicken nuggets 😎 "
      ],
      "metadata": {
        "id": "h6ZVNoJZBIWW"
      }
    },
    {
      "cell_type": "code",
      "source": [
        "chicken_nuggets = 6 #because the dog ate the rest of them\n",
        "print(\"Are boneless wings greater than or equal to chicken nuggets now:  \", boneless_wings >= chicken_nuggets)"
      ],
      "metadata": {
        "id": "BdiWlt6tBXo2"
      },
      "execution_count": null,
      "outputs": []
    },
    {
      "cell_type": "markdown",
      "source": [
        "That's all for now. Happy Crazy Coding 🙃"
      ],
      "metadata": {
        "id": "YnWZpoC9Bfxb"
      }
    }
  ]
}